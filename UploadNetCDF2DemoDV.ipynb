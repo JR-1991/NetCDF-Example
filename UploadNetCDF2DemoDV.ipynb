{
  "nbformat": 4,
  "nbformat_minor": 0,
  "metadata": {
    "colab": {
      "provenance": [],
      "authorship_tag": "ABX9TyNGg4O40ZhWd1eG9teXKU1y",
      "include_colab_link": true
    },
    "kernelspec": {
      "name": "python3",
      "display_name": "Python 3"
    },
    "language_info": {
      "name": "python"
    }
  },
  "cells": [
    {
      "cell_type": "markdown",
      "metadata": {
        "id": "view-in-github",
        "colab_type": "text"
      },
      "source": [
        "<a href=\"https://colab.research.google.com/github/JR-1991/NetCDF-Example/blob/main/UploadNetCDF2DemoDV.ipynb\" target=\"_parent\"><img src=\"https://colab.research.google.com/assets/colab-badge.svg\" alt=\"Open In Colab\"/></a>"
      ]
    },
    {
      "cell_type": "code",
      "execution_count": null,
      "metadata": {
        "id": "YmmwSiw0mdhY"
      },
      "outputs": [],
      "source": [
        "import sys\n",
        "\n",
        "# Install dependencies and pyDataverse patch\n",
        "!{sys.executable} -m pip install netcdf4 git+https://github.com/gdcc/easyDataverse.git@flexible-connect\n",
        "!{sys.executable} -m pip uninstall pydataverse -y\n",
        "!{sys.executable} -m pip install git+https://github.com/JR-1991/pyDataverse.git\n"
      ]
    },
    {
      "cell_type": "code",
      "source": [
        "# Fetch dataset from web\n",
        "!wget https://www.northwestknowledge.net/metdata/data/bi_1985.nc"
      ],
      "metadata": {
        "id": "cH46C2gtnqr_"
      },
      "execution_count": null,
      "outputs": []
    },
    {
      "cell_type": "code",
      "source": [
        "import re\n",
        "import netCDF4 as nc\n",
        "\n",
        "from easyDataverse import Dataset"
      ],
      "metadata": {
        "id": "WrAzb0lgmxVa"
      },
      "execution_count": 3,
      "outputs": []
    },
    {
      "cell_type": "code",
      "source": [
        "# Pattern to extract the author of this NetCDF file\n",
        "AUTHOR_PATTERN = r\"([A-Za-z\\s]*)\\-([A-Za-z\\s]*)\\,([A-Za-z\\s0-9\\@\\.]*)\""
      ],
      "metadata": {
        "id": "sJHEbKcangcg"
      },
      "execution_count": 4,
      "outputs": []
    },
    {
      "cell_type": "code",
      "source": [
        "# Load NetCDF dataset\n",
        "ds = nc.Dataset(\"bi_1985.nc\")"
      ],
      "metadata": {
        "id": "oZJJNyrdnk4w"
      },
      "execution_count": 5,
      "outputs": []
    },
    {
      "cell_type": "code",
      "source": [
        "# Initialize EasyDataverse dataset\n",
        "dataset = Dataset.connect(\n",
        "    url=\"https://demo.dataverse.org\", #@param {type: \"string\"}\n",
        "    API_TOKEN=\"Enter API Token\" #@param {type:\"string\"}\n",
        ")"
      ],
      "metadata": {
        "id": "Q4boHJupnnzI"
      },
      "execution_count": 15,
      "outputs": []
    },
    {
      "cell_type": "code",
      "source": [
        "# Extract author information\n",
        "match = re.match(AUTHOR_PATTERN, ds.author)\n",
        "name = match.group(1).strip()\n",
        "university = match.group(2).strip()\n",
        "mail = match.group(3).strip()"
      ],
      "metadata": {
        "id": "ljo_DzT1oFNt"
      },
      "execution_count": 7,
      "outputs": []
    },
    {
      "cell_type": "code",
      "source": [
        "# Extract notes for the notes field\n",
        "notes = \"\\n\".join([\n",
        "    content for name, content in ds.__dict__.items()\n",
        "    if bool(re.match(r\"note\\d*\", name))\n",
        "])"
      ],
      "metadata": {
        "id": "nXgfpY87oIHg"
      },
      "execution_count": 8,
      "outputs": []
    },
    {
      "cell_type": "code",
      "source": [
        "# Fill Citation metadatablock\n",
        "dataset.citation.title = \"NetCDF Test\"\n",
        "dataset.citation.add_ds_description(value=\"This is a test for NetCDF\")\n",
        "dataset.citation.add_author(name=name, affiliation=university)\n",
        "dataset.citation.add_dataset_contact(name=\"John Doe\", email=\"jonhdoe@doetastic.com\")\n",
        "dataset.citation.subject = [\"Earth and Environmental Sciences\"]\n",
        "dataset.citation.notes_text = notes"
      ],
      "metadata": {
        "id": "JW3SVbpkoJqm"
      },
      "execution_count": 9,
      "outputs": []
    },
    {
      "cell_type": "code",
      "source": [
        "# Extract longitude and lattitude \n",
        "longitude_dir = ds.geospatial_lon_units.split(\" \")[-1].lower()\n",
        "latitude_dir = ds.geospatial_lat_units.split(\" \")[-1].lower()\n",
        "\n",
        "# Set up parameters for the bounding box by using the unit\n",
        "parameters = {}\n",
        "\n",
        "# Parse longitude\n",
        "if longitude_dir == \"east\":\n",
        "    parameters.update({\n",
        "        \"east_longitude\": ds.geospatial_lon_max,\n",
        "        \"west_longitude\": ds.geospatial_lon_min\n",
        "    })\n",
        "else:\n",
        "    parameters.update({\n",
        "        \"west_longitude\": ds.geospatial_lon_max,\n",
        "        \"east_longitude\": ds.geospatial_lon_min\n",
        "    })\n",
        "\n",
        "# Parse latitude\n",
        "if latitude_dir == \"north\":\n",
        "    parameters.update({\n",
        "        \"north_longitude\": ds.geospatial_lat_max,\n",
        "        \"south_longitude\": ds.geospatial_lat_min\n",
        "    })\n",
        "else:\n",
        "    parameters.update({\n",
        "        \"south_longitude\": ds.geospatial_lat_max,\n",
        "        \"north_longitude\": ds.geospatial_lat_min\n",
        "    })"
      ],
      "metadata": {
        "id": "Vh-EUKx_oMBM"
      },
      "execution_count": 10,
      "outputs": []
    },
    {
      "cell_type": "code",
      "source": [
        "# Add bounding box to the block\n",
        "dataset.geospatial.add_bounding_box(**parameters)"
      ],
      "metadata": {
        "id": "zcY6nhbOoOCb"
      },
      "execution_count": 11,
      "outputs": []
    },
    {
      "cell_type": "code",
      "source": [
        "# Add the dataset file\n",
        "dataset.add_file(\"./bi_1985.nc\", description=\"Corresponding NetCDF file\")"
      ],
      "metadata": {
        "id": "pWRpBSmvoQVE"
      },
      "execution_count": 12,
      "outputs": []
    },
    {
      "cell_type": "code",
      "source": [
        "dataset.upload(\n",
        "    dataverse_name=\"Enter collection name\" #@param {type:\"string\"}\n",
        ") "
      ],
      "metadata": {
        "id": "M3_1i1dloSFE"
      },
      "execution_count": null,
      "outputs": []
    }
  ]
}